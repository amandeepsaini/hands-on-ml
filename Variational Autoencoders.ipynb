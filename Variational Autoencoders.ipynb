{
  "nbformat": 4,
  "nbformat_minor": 0,
  "metadata": {
    "kernelspec": {
      "display_name": "Python 3",
      "language": "python",
      "name": "python3"
    },
    "language_info": {
      "codemirror_mode": {
        "name": "ipython",
        "version": 3
      },
      "file_extension": ".py",
      "mimetype": "text/x-python",
      "name": "python",
      "nbconvert_exporter": "python",
      "pygments_lexer": "ipython3",
      "version": "3.7.3"
    },
    "colab": {
      "name": "Variational Autoencoders.ipynb",
      "provenance": []
    }
  },
  "cells": [
    {
      "cell_type": "code",
      "metadata": {
        "id": "FR8bCYK60CEV"
      },
      "source": [
        "import tensorflow as tf\n",
        "import tensorflow.keras as keras\n",
        "import matplotlib.pyplot as plt"
      ],
      "execution_count": null,
      "outputs": []
    },
    {
      "cell_type": "code",
      "metadata": {
        "id": "1pJvEwd10CEW"
      },
      "source": [
        "import tensorflow_datasets as tfds"
      ],
      "execution_count": null,
      "outputs": []
    },
    {
      "cell_type": "code",
      "metadata": {
        "id": "SHD6uzwc0CEW"
      },
      "source": [
        "train, test = tfds.load('mnist', as_supervised=True, shuffle_files=True, split=['train', 'test'])"
      ],
      "execution_count": null,
      "outputs": []
    },
    {
      "cell_type": "code",
      "metadata": {
        "id": "vmv6F45D0CEW"
      },
      "source": [
        "def normalize_img(image, label):\n",
        "    return tf.cast(image, tf.float32) / 256., label\n",
        "def y_is_x(image, label):\n",
        "    return image, image\n",
        "\n",
        "train = train.map(normalize_img)\n",
        "train = train.map(y_is_x)\n",
        "train = train.batch(128)\n",
        "\n",
        "    "
      ],
      "execution_count": null,
      "outputs": []
    },
    {
      "cell_type": "markdown",
      "metadata": {
        "id": "Gnw4fdim0CEW"
      },
      "source": [
        "### First we create a sampling layer to sample the codings"
      ]
    },
    {
      "cell_type": "code",
      "metadata": {
        "id": "NUEa8qd10CEW"
      },
      "source": [
        "class Sampling(keras.layers.Layer):\n",
        "    def call(self, inputs):\n",
        "        mean, log_var = inputs\n",
        "        return (keras.backend.random_normal(tf.shape(log_var)) * \n",
        "            keras.backend.exp(log_var / 2) + mean)"
      ],
      "execution_count": null,
      "outputs": []
    },
    {
      "cell_type": "markdown",
      "metadata": {
        "id": "tupO6zZ00CEW"
      },
      "source": [
        "### Now we create the model"
      ]
    },
    {
      "cell_type": "code",
      "metadata": {
        "id": "l8tLFSvf0CEW"
      },
      "source": [
        "codings_size = 10\n",
        "\n",
        "inputs = keras.layers.Input(shape=[28,28])\n",
        "z = keras.layers.Flatten()(inputs)\n",
        "z = keras.layers.Dense(150, activation='selu')(z)\n",
        "z = keras.layers.Dense(100, activation='selu')(z)\n",
        "codings_mean = keras.layers.Dense(codings_size)(z) # u\n",
        "codings_log_var = keras.layers.Dense(codings_size)(z) # y\n",
        "codings = Sampling()([codings_mean, codings_log_var])\n",
        "\n",
        "variational_encoder = keras.Model(\n",
        "    inputs=[inputs], outputs=[codings_mean, codings_log_var, codings])\n"
      ],
      "execution_count": null,
      "outputs": []
    },
    {
      "cell_type": "code",
      "metadata": {
        "id": "KEP-fyit0CEW"
      },
      "source": [
        "decoder_inputs = keras.layers.Input(shape=[codings_size])\n",
        "x = keras.layers.Dense(100, activation='selu')(decoder_inputs)\n",
        "x = keras.layers.Dense(150, activation='selu')(x)\n",
        "x = keras.layers.Dense(28*28, activation='sigmoid')(x)\n",
        "outputs = keras.layers.Reshape([28,28])(x)\n",
        "\n",
        "variational_decoder = keras.Model(\n",
        "    inputs=[decoder_inputs], outputs=[outputs])"
      ],
      "execution_count": null,
      "outputs": []
    },
    {
      "cell_type": "code",
      "metadata": {
        "id": "a1xLvpR40CEW"
      },
      "source": [
        "_, _, codings = variational_encoder(inputs)\n",
        "reconstructions = variational_decoder(codings)\n",
        "variational_ae = keras.Model(inputs=[inputs], outputs=[reconstructions])"
      ],
      "execution_count": null,
      "outputs": []
    },
    {
      "cell_type": "markdown",
      "metadata": {
        "id": "k8CpQSJ-0CEW"
      },
      "source": [
        "### Now we compute loss and compile the model"
      ]
    },
    {
      "cell_type": "code",
      "metadata": {
        "id": "4lXDawGz0CEW"
      },
      "source": [
        "latent_loss = -0.5 * keras.backend.sum(\n",
        "    1 + codings_log_var - keras.backend.exp(codings_log_var)\n",
        "    - keras.backend.square(codings_mean), axis=-1)\n",
        "# Compute mean over the batch, then divide by 784 to make to scale\n",
        "# with the reconsutruction loss \n",
        "# (Keras cross entropy loss takes average rather than sum)\n",
        "variational_ae.add_loss(keras.backend.mean(latent_loss) / 784.)\n",
        "variational_ae.compile(loss='binary_crossentropy', optimizer='rmsprop')"
      ],
      "execution_count": null,
      "outputs": []
    },
    {
      "cell_type": "code",
      "metadata": {
        "id": "22sYguam0CEW",
        "outputId": "8de87a54-4de5-4fba-f4c5-347a5abbd0bd"
      },
      "source": [
        "history = variational_ae.fit(train, epochs=1)"
      ],
      "execution_count": null,
      "outputs": [
        {
          "output_type": "stream",
          "text": [
            "469/469 [==============================] - 15s 32ms/step - loss: 0.2208\n"
          ],
          "name": "stdout"
        }
      ]
    },
    {
      "cell_type": "markdown",
      "metadata": {
        "id": "xCwbFGq50CEY"
      },
      "source": [
        "## Generated Digits"
      ]
    },
    {
      "cell_type": "markdown",
      "metadata": {
        "id": "sEPaVvlh0CEY"
      },
      "source": [
        "#### After 1 epoch"
      ]
    },
    {
      "cell_type": "code",
      "metadata": {
        "id": "hIkCqsAj0CEY"
      },
      "source": [
        "codings = tf.random.normal(shape=[5, codings_size])\n",
        "images = variational_decoder(codings).numpy()"
      ],
      "execution_count": null,
      "outputs": []
    },
    {
      "cell_type": "code",
      "metadata": {
        "id": "z6BIGVf70CEY",
        "outputId": "77c94e90-5005-4bc9-e96b-f7c6d746d2b1"
      },
      "source": [
        "plt.figure()\n",
        "for i in range(5):\n",
        "    plt.subplot(1,5,i+1)\n",
        "    plt.imshow(images[i], cmap='binary')\n",
        "    plt.axis(\"off\")"
      ],
      "execution_count": null,
      "outputs": [
        {
          "output_type": "display_data",
          "data": {
            "image/png": "[encoded data removed]",
            "text/plain": [
              "<Figure size 432x288 with 5 Axes>"
            ]
          },
          "metadata": {
            "tags": [],
            "needs_background": "light"
          }
        }
      ]
    },
    {
      "cell_type": "markdown",
      "metadata": {
        "id": "ig5P12RJ0CEY"
      },
      "source": [
        "#### After 50 epochs"
      ]
    },
    {
      "cell_type": "code",
      "metadata": {
        "id": "m75Nfw_90CEY",
        "outputId": "f3f4e06e-427a-4878-a6e4-5d10d5862557"
      },
      "source": [
        "history = variational_ae.fit(train, epochs=50)"
      ],
      "execution_count": null,
      "outputs": [
        {
          "output_type": "stream",
          "text": [
            "Epoch 1/50\n",
            "469/469 [==============================] - 10s 22ms/step - loss: 0.1759\n",
            "Epoch 2/50\n",
            "469/469 [==============================] - 9s 20ms/step - loss: 0.1645\n",
            "Epoch 3/50\n",
            "469/469 [==============================] - 10s 21ms/step - loss: 0.1592\n",
            "Epoch 4/50\n",
            "469/469 [==============================] - 10s 21ms/step - loss: 0.1559\n",
            "Epoch 5/50\n",
            "469/469 [==============================] - 9s 20ms/step - loss: 0.1537\n",
            "Epoch 6/50\n",
            "469/469 [==============================] - 10s 20ms/step - loss: 0.1519\n",
            "Epoch 7/50\n",
            "469/469 [==============================] - 10s 21ms/step - loss: 0.1505\n",
            "Epoch 8/50\n",
            "469/469 [==============================] - 10s 21ms/step - loss: 0.1494\n",
            "Epoch 9/50\n",
            "469/469 [==============================] - 10s 22ms/step - loss: 0.1483\n",
            "Epoch 10/50\n",
            "469/469 [==============================] - 10s 21ms/step - loss: 0.1474\n",
            "Epoch 11/50\n",
            "469/469 [==============================] - 11s 22ms/step - loss: 0.1466\n",
            "Epoch 12/50\n",
            "469/469 [==============================] - 10s 22ms/step - loss: 0.1459\n",
            "Epoch 13/50\n",
            "469/469 [==============================] - 10s 21ms/step - loss: 0.1453\n",
            "Epoch 14/50\n",
            "469/469 [==============================] - 9s 20ms/step - loss: 0.1448\n",
            "Epoch 15/50\n",
            "469/469 [==============================] - 11s 24ms/step - loss: 0.1442\n",
            "Epoch 16/50\n",
            "469/469 [==============================] - 10s 22ms/step - loss: 0.1437\n",
            "Epoch 17/50\n",
            "469/469 [==============================] - 9s 19ms/step - loss: 0.1433\n",
            "Epoch 18/50\n",
            "469/469 [==============================] - 9s 19ms/step - loss: 0.1430\n",
            "Epoch 19/50\n",
            "469/469 [==============================] - 9s 20ms/step - loss: 0.1425\n",
            "Epoch 20/50\n",
            "469/469 [==============================] - 9s 19ms/step - loss: 0.1422\n",
            "Epoch 21/50\n",
            "469/469 [==============================] - 9s 19ms/step - loss: 0.1419\n",
            "Epoch 22/50\n",
            "469/469 [==============================] - 9s 19ms/step - loss: 0.1416\n",
            "Epoch 23/50\n",
            "469/469 [==============================] - 9s 19ms/step - loss: 0.1414\n",
            "Epoch 24/50\n",
            "469/469 [==============================] - 9s 19ms/step - loss: 0.1411\n",
            "Epoch 25/50\n",
            "469/469 [==============================] - 9s 19ms/step - loss: 0.1409\n",
            "Epoch 26/50\n",
            "469/469 [==============================] - 9s 19ms/step - loss: 0.1406\n",
            "Epoch 27/50\n",
            "469/469 [==============================] - 9s 19ms/step - loss: 0.1404\n",
            "Epoch 28/50\n",
            "469/469 [==============================] - 9s 19ms/step - loss: 0.1402\n",
            "Epoch 29/50\n",
            "469/469 [==============================] - 9s 19ms/step - loss: 0.1400\n",
            "Epoch 30/50\n",
            "469/469 [==============================] - 9s 19ms/step - loss: 0.1399\n",
            "Epoch 31/50\n",
            "469/469 [==============================] - 9s 19ms/step - loss: 0.1397\n",
            "Epoch 32/50\n",
            "469/469 [==============================] - 9s 19ms/step - loss: 0.1395\n",
            "Epoch 33/50\n",
            "469/469 [==============================] - 9s 20ms/step - loss: 0.1393\n",
            "Epoch 34/50\n",
            "469/469 [==============================] - 9s 19ms/step - loss: 0.1392\n",
            "Epoch 35/50\n",
            "469/469 [==============================] - 9s 19ms/step - loss: 0.1390\n",
            "Epoch 36/50\n",
            "469/469 [==============================] - 9s 20ms/step - loss: 0.1389\n",
            "Epoch 37/50\n",
            "469/469 [==============================] - 9s 19ms/step - loss: 0.1387\n",
            "Epoch 38/50\n",
            "469/469 [==============================] - 9s 19ms/step - loss: 0.1386\n",
            "Epoch 39/50\n",
            "469/469 [==============================] - 9s 19ms/step - loss: 0.1385\n",
            "Epoch 40/50\n",
            "469/469 [==============================] - 9s 19ms/step - loss: 0.1384\n",
            "Epoch 41/50\n",
            "469/469 [==============================] - 9s 19ms/step - loss: 0.1382\n",
            "Epoch 42/50\n",
            "469/469 [==============================] - 9s 19ms/step - loss: 0.1382\n",
            "Epoch 43/50\n",
            "469/469 [==============================] - 9s 19ms/step - loss: 0.1380\n",
            "Epoch 44/50\n",
            "469/469 [==============================] - 9s 19ms/step - loss: 0.1379\n",
            "Epoch 45/50\n",
            "469/469 [==============================] - 9s 19ms/step - loss: 0.1378\n",
            "Epoch 46/50\n",
            "469/469 [==============================] - 9s 19ms/step - loss: 0.1377\n",
            "Epoch 47/50\n",
            "469/469 [==============================] - 9s 19ms/step - loss: 0.1376\n",
            "Epoch 48/50\n",
            "469/469 [==============================] - 9s 19ms/step - loss: 0.1375\n",
            "Epoch 49/50\n",
            "469/469 [==============================] - 9s 20ms/step - loss: 0.1374\n",
            "Epoch 50/50\n",
            "469/469 [==============================] - 10s 20ms/step - loss: 0.1374\n"
          ],
          "name": "stdout"
        }
      ]
    },
    {
      "cell_type": "code",
      "metadata": {
        "id": "mWufOdJ_0CEY",
        "outputId": "90a6594b-affc-4317-efdd-f9fb3554dd91"
      },
      "source": [
        "# Same sample as before\n",
        "images = variational_decoder(codings).numpy()\n",
        "plt.figure()\n",
        "for i in range(5):\n",
        "    plt.subplot(1,5,i+1)\n",
        "    plt.imshow(images[i], cmap='binary')\n",
        "    plt.axis(\"off\")"
      ],
      "execution_count": null,
      "outputs": [
        {
          "output_type": "display_data",
          "data": {
            "image/png": "[encoded data removed]",
            "text/plain": [
              "<Figure size 432x288 with 5 Axes>"
            ]
          },
          "metadata": {
            "tags": [],
            "needs_background": "light"
          }
        }
      ]
    },
    {
      "cell_type": "code",
      "metadata": {
        "id": "TND5MK8p0CEY",
        "outputId": "c324439f-d40b-4225-bbbd-2de0bd23e94e"
      },
      "source": [
        "# new sample\n",
        "codings = tf.random.normal(shape=[25, codings_size])\n",
        "images = variational_decoder(codings).numpy()\n",
        "plt.figure()\n",
        "for i in range(25):\n",
        "    plt.subplot(5,5,i+1)\n",
        "    plt.imshow(images[i], cmap='binary')\n",
        "    plt.axis(\"off\")"
      ],
      "execution_count": null,
      "outputs": [
        {
          "output_type": "display_data",
          "data": {
            "image/png": "[encoded data removed]",
            "text/plain": [
              "<Figure size 432x288 with 25 Axes>"
            ]
          },
          "metadata": {
            "tags": [],
            "needs_background": "light"
          }
        }
      ]
    },
    {
      "cell_type": "code",
      "metadata": {
        "id": "F_RiQeDo0CEY",
        "outputId": "6b81ce64-b755-410d-ca3f-17f2e4de9ab5",
        "colab": {
          "base_uri": "https://localhost:8080/"
        }
      },
      "source": [
        "print(\"Pushing Commit from Colab\")"
      ],
      "execution_count": 5,
      "outputs": [
        {
          "output_type": "stream",
          "text": [
            "Pushing Commit from Colab\n"
          ],
          "name": "stdout"
        }
      ]
    },
    {
      "cell_type": "code",
      "metadata": {
        "id": "RIdmVmBE0JG0"
      },
      "source": [
        ""
      ],
      "execution_count": null,
      "outputs": []
    }
  ]
}