{
  "nbformat": 4,
  "nbformat_minor": 0,
  "metadata": {
    "colab": {
      "name": "Variational Autoencoder Larger Images.ipynb",
      "provenance": [],
      "authorship_tag": "ABX9TyMU2dWAIqkCyLGt8xz3IDfc",
      "include_colab_link": true
    },
    "kernelspec": {
      "name": "python3",
      "display_name": "Python 3"
    }
  },
  "cells": [
    {
      "cell_type": "markdown",
      "metadata": {
        "id": "view-in-github",
        "colab_type": "text"
      },
      "source": [
        "<a href=\"https://colab.research.google.com/github/amandeepsaini/hands-on-ml/blob/master/Variational_Autoencoder_Larger_Images.ipynb\" target=\"_parent\"><img src=\"https://colab.research.google.com/assets/colab-badge.svg\" alt=\"Open In Colab\"/></a>"
      ]
    },
    {
      "cell_type": "markdown",
      "metadata": {
        "id": "bPvKmkXlluge"
      },
      "source": [
        "### The Current commit is just to test pushing from colab (this is modified 2nd commit)\n",
        "\n"
      ]
    },
    {
      "cell_type": "code",
      "metadata": {
        "colab": {
          "base_uri": "https://localhost:8080/"
        },
        "id": "c1mjdvIMlUKS",
        "outputId": "39b6d765-8be1-4472-fe6a-94ed49a6825a"
      },
      "source": [
        "print(\"This is edited after the previous commit, so lets ensure we can push this too\")"
      ],
      "execution_count": 2,
      "outputs": [
        {
          "output_type": "stream",
          "text": [
            "This is edited after the previous commit, so lets ensure we can push this too\n"
          ],
          "name": "stdout"
        }
      ]
    },
    {
      "cell_type": "code",
      "metadata": {
        "id": "bA5Bw5xnm2EV"
      },
      "source": [
        ""
      ],
      "execution_count": null,
      "outputs": []
    }
  ]
}