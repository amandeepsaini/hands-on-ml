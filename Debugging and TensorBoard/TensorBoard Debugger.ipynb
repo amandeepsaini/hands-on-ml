{
 "cells": [
  {
   "cell_type": "code",
   "execution_count": 1,
   "metadata": {},
   "outputs": [],
   "source": [
    "import tensorflow as tf\n",
    "import tensorflow.keras as keras\n",
    "import tensorflow.keras.layers as l\n",
    "import numpy as np\n",
    "import matplotlib.pyplot as plt\n",
    "from tensorflow.keras.utils import plot_model\n",
    "\n",
    "%matplotlib inline"
   ]
  },
  {
   "cell_type": "code",
   "execution_count": 2,
   "metadata": {},
   "outputs": [
    {
     "name": "stdout",
     "output_type": "stream",
     "text": [
      "INFO:tensorflow:Enabled dumping callback in thread MainThread (dump root: debug_logs/, tensor debug mode: NO_TENSOR)\n"
     ]
    },
    {
     "data": {
      "text/plain": [
       "<tensorflow.python.debug.lib.debug_events_writer.DebugEventsWriter at 0x137b47d30>"
      ]
     },
     "execution_count": 2,
     "metadata": {},
     "output_type": "execute_result"
    }
   ],
   "source": [
    "tf.debugging.experimental.enable_dump_debug_info(\n",
    "    dump_root=\"debug_logs/\",\n",
    "    circular_buffer_size=-1)"
   ]
  },
  {
   "cell_type": "code",
   "execution_count": 3,
   "metadata": {},
   "outputs": [
    {
     "name": "stdout",
     "output_type": "stream",
     "text": [
      "WARNING:tensorflow:Failed to read source code from path: /Users/amandeepsaini/Desktop/Learning/ml_learning/hands-on-ml/Debugging and TensorBoard/<ipython-input-3-635a9bc3848a>. Reason: Source path neither exists nor can be loaded as a .par file: /Users/amandeepsaini/Desktop/Learning/ml_learning/hands-on-ml/Debugging and TensorBoard/<ipython-input-3-635a9bc3848a>\n"
     ]
    }
   ],
   "source": [
    "# Fashion MNIST Dataset\n",
    "(x_train, y_train), (x_test, y_test) = tf.keras.datasets.fashion_mnist.load_data()\n",
    "x_train = tf.cast(x_train, tf.float32) / 255.\n",
    "x_test = tf.cast(x_test, tf.float32) / 255.\n",
    "y_train_cat = keras.utils.to_categorical(y_train, num_classes=10)\n",
    "y_test_cat =  keras.utils.to_categorical(y_test, num_classes=10)"
   ]
  },
  {
   "cell_type": "code",
   "execution_count": 4,
   "metadata": {},
   "outputs": [],
   "source": [
    "def create_simple_classifier():\n",
    "    inputs = l.Input(shape=(28,28,1))\n",
    "    z = l.Flatten()(inputs)\n",
    "    z = l.Dense(200, activation='relu')(z)\n",
    "    z = l.Dense(100, activation='relu')(z)\n",
    "    output = l.Dense(10, activation='softmax')(z)\n",
    "    \n",
    "    return keras.Model(inputs=[inputs], outputs=[output])"
   ]
  },
  {
   "cell_type": "code",
   "execution_count": 5,
   "metadata": {},
   "outputs": [
    {
     "name": "stdout",
     "output_type": "stream",
     "text": [
      "WARNING:tensorflow:Failed to read source code from path: /Users/amandeepsaini/Desktop/Learning/ml_learning/hands-on-ml/Debugging and TensorBoard/<ipython-input-5-b06849749cd3>. Reason: Source path neither exists nor can be loaded as a .par file: /Users/amandeepsaini/Desktop/Learning/ml_learning/hands-on-ml/Debugging and TensorBoard/<ipython-input-5-b06849749cd3>\n",
      "WARNING:tensorflow:Failed to read source code from path: /Users/amandeepsaini/Desktop/Learning/ml_learning/hands-on-ml/Debugging and TensorBoard/<ipython-input-4-a821fe0cdce6>. Reason: Source path neither exists nor can be loaded as a .par file: /Users/amandeepsaini/Desktop/Learning/ml_learning/hands-on-ml/Debugging and TensorBoard/<ipython-input-4-a821fe0cdce6>\n",
      "1875/1875 [==============================] - 19s 10ms/step - loss: 0.4820 - accuracy: 0.8275\n"
     ]
    },
    {
     "data": {
      "text/plain": [
       "<tensorflow.python.keras.callbacks.History at 0x1388e1438>"
      ]
     },
     "execution_count": 5,
     "metadata": {},
     "output_type": "execute_result"
    }
   ],
   "source": [
    "tf.random.set_seed(42)\n",
    "simple_clf = create_simple_classifier()\n",
    "simple_clf.compile(loss='categorical_crossentropy', optimizer=keras.optimizers.Adam(1e-3), metrics=['accuracy'])\n",
    "simple_clf.fit(x_train, y_train_cat, epochs=1)"
   ]
  },
  {
   "cell_type": "code",
   "execution_count": null,
   "metadata": {},
   "outputs": [],
   "source": []
  }
 ],
 "metadata": {
  "kernelspec": {
   "display_name": "Python 3",
   "language": "python",
   "name": "python3"
  },
  "language_info": {
   "codemirror_mode": {
    "name": "ipython",
    "version": 3
   },
   "file_extension": ".py",
   "mimetype": "text/x-python",
   "name": "python",
   "nbconvert_exporter": "python",
   "pygments_lexer": "ipython3",
   "version": "3.7.3"
  }
 },
 "nbformat": 4,
 "nbformat_minor": 4
}
