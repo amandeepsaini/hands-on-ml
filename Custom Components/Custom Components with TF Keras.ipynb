{
 "cells": [
  {
   "cell_type": "code",
   "execution_count": 1,
   "metadata": {},
   "outputs": [],
   "source": [
    "import tensorflow as tf\n",
    "import tensorflow.keras as keras\n",
    "import numpy as np\n",
    "import matplotlib.pyplot as plt\n",
    "%matplotlib inline"
   ]
  },
  {
   "cell_type": "markdown",
   "metadata": {},
   "source": [
    "# Prepare the Data"
   ]
  },
  {
   "cell_type": "code",
   "execution_count": 2,
   "metadata": {},
   "outputs": [],
   "source": [
    "import tensorflow_datasets as tfds"
   ]
  },
  {
   "cell_type": "code",
   "execution_count": 3,
   "metadata": {},
   "outputs": [],
   "source": [
    "train, test = tfds.load('fashion_mnist', split=['train', 'test'], shuffle_files=True, as_supervised=True)"
   ]
  },
  {
   "cell_type": "code",
   "execution_count": 4,
   "metadata": {},
   "outputs": [],
   "source": [
    "def normalize_img(img, label):\n",
    "    return tf.cast(img, tf.float32)/255., label\n",
    "train = train.map(normalize_img)\n",
    "train = train.batch(128).prefetch(tf.data.experimental.AUTOTUNE)\n"
   ]
  },
  {
   "cell_type": "code",
   "execution_count": 5,
   "metadata": {},
   "outputs": [
    {
     "name": "stdout",
     "output_type": "stream",
     "text": [
      "(28, 28, 1)\n",
      "tf.Tensor(2, shape=(), dtype=int64)\n"
     ]
    },
    {
     "data": {
      "image/png": "[encoded data removed]",
      "text/plain": [
       "<Figure size 432x288 with 1 Axes>"
      ]
     },
     "metadata": {
      "needs_background": "light"
     },
     "output_type": "display_data"
    }
   ],
   "source": [
    "for example in train.take(1):\n",
    "    plt.imshow(example[0][0], cmap='gray')\n",
    "    print(example[0][0].shape)\n",
    "    print(example[1][0])"
   ]
  },
  {
   "cell_type": "markdown",
   "metadata": {},
   "source": [
    "# Simple Classification"
   ]
  },
  {
   "cell_type": "code",
   "execution_count": 6,
   "metadata": {},
   "outputs": [],
   "source": [
    "# Lets use functional API, even though sequential is sufficient\n",
    "inputs = keras.layers.Input(shape=(28,28,1))\n",
    "z = keras.layers.Conv2D(16, 3, strides=1, padding='same', activation='relu')(inputs)\n",
    "z = keras.layers.MaxPool2D(2)(z)\n",
    "z = keras.layers.Conv2D(32, 3, strides=1, padding='same', activation='relu')(z)\n",
    "z = keras.layers.MaxPool2D(2)(z)\n",
    "z = keras.layers.Conv2D(32, 3, strides=1, padding='same', activation='relu')(z)\n",
    "z = keras.layers.MaxPool2D(2)(z)\n",
    "z = keras.layers.Flatten()(z)\n",
    "z = keras.layers.Dense(10, activation='relu')(z)\n",
    "output = keras.layers.Softmax()(z)\n",
    "\n",
    "simple_conv_clf = keras.Model(inputs=[inputs], outputs=[output])\n"
   ]
  },
  {
   "cell_type": "code",
   "execution_count": 7,
   "metadata": {},
   "outputs": [],
   "source": [
    "simple_conv_clf.compile(loss='sparse_categorical_crossentropy', optimizer=keras.optimizers.Adam(1e-3), metrics=['accuracy'])"
   ]
  },
  {
   "cell_type": "code",
   "execution_count": 8,
   "metadata": {},
   "outputs": [
    {
     "name": "stdout",
     "output_type": "stream",
     "text": [
      "Epoch 1/5\n",
      "469/469 [==============================] - 44s 93ms/step - loss: 0.8543 - accuracy: 0.7443\n",
      "Epoch 2/5\n",
      "469/469 [==============================] - 37s 78ms/step - loss: 0.6093 - accuracy: 0.8178\n",
      "Epoch 3/5\n",
      "469/469 [==============================] - 37s 78ms/step - loss: 0.5602 - accuracy: 0.8291\n",
      "Epoch 4/5\n",
      "469/469 [==============================] - 37s 79ms/step - loss: 0.5328 - accuracy: 0.8361\n",
      "Epoch 5/5\n",
      "469/469 [==============================] - 37s 78ms/step - loss: 0.5132 - accuracy: 0.8408\n"
     ]
    },
    {
     "data": {
      "text/plain": [
       "<tensorflow.python.keras.callbacks.History at 0x142a97160>"
      ]
     },
     "execution_count": 8,
     "metadata": {},
     "output_type": "execute_result"
    }
   ],
   "source": [
    "simple_conv_clf.fit(train, epochs=5)"
   ]
  },
  {
   "cell_type": "code",
   "execution_count": 9,
   "metadata": {},
   "outputs": [],
   "source": [
    "inputs = keras.layers.Input(shape=(28,28,1))\n",
    "z = keras.layers.Flatten()(inputs)\n",
    "z = keras.layers.Dense(200, activation='relu')(z)\n",
    "z = keras.layers.Dense(100, activation='relu')(z)\n",
    "z = keras.layers.Dense(10, activation='relu')(z)\n",
    "outputs = keras.layers.Softmax()(z)\n",
    "\n",
    "simple_fc_clf = keras.Model(inputs=[inputs], outputs=[outputs])\n",
    "simple_fc_clf.compile(loss=\"sparse_categorical_crossentropy\", optimizer=keras.optimizers.Adam(1e-3), metrics=['accuracy'])"
   ]
  },
  {
   "cell_type": "code",
   "execution_count": 10,
   "metadata": {},
   "outputs": [
    {
     "name": "stdout",
     "output_type": "stream",
     "text": [
      "Epoch 1/5\n",
      "469/469 [==============================] - 5s 12ms/step - loss: 0.7364 - accuracy: 0.7594\n",
      "Epoch 2/5\n",
      "469/469 [==============================] - 5s 11ms/step - loss: 0.4493 - accuracy: 0.8446\n",
      "Epoch 3/5\n",
      "469/469 [==============================] - 6s 12ms/step - loss: 0.3430 - accuracy: 0.8775\n",
      "Epoch 4/5\n",
      "469/469 [==============================] - 5s 11ms/step - loss: 0.3141 - accuracy: 0.8869\n",
      "Epoch 5/5\n",
      "469/469 [==============================] - 5s 11ms/step - loss: 0.2926 - accuracy: 0.8936\n"
     ]
    },
    {
     "data": {
      "text/plain": [
       "<tensorflow.python.keras.callbacks.History at 0x1429fe8d0>"
      ]
     },
     "execution_count": 10,
     "metadata": {},
     "output_type": "execute_result"
    }
   ],
   "source": [
    "simple_fc_clf.fit(train, epochs=5)"
   ]
  },
  {
   "cell_type": "markdown",
   "metadata": {},
   "source": [
    "# Lets make some simple custom layers"
   ]
  },
  {
   "cell_type": "markdown",
   "metadata": {},
   "source": [
    "### Lets use keras dataset instead of TF Dataset, because its a bit less abstract and easier to modify\n"
   ]
  },
  {
   "cell_type": "code",
   "execution_count": 11,
   "metadata": {},
   "outputs": [],
   "source": [
    "(x_train, y_train), (x_test, y_test) = tf.keras.datasets.fashion_mnist.load_data()"
   ]
  },
  {
   "cell_type": "code",
   "execution_count": 12,
   "metadata": {},
   "outputs": [
    {
     "name": "stdout",
     "output_type": "stream",
     "text": [
      "(60000, 28, 28) uint8\n",
      "(60000,)\n"
     ]
    }
   ],
   "source": [
    "print(x_train.shape, x_train.dtype)\n",
    "print(y_train.shape)"
   ]
  },
  {
   "cell_type": "code",
   "execution_count": 13,
   "metadata": {},
   "outputs": [],
   "source": [
    "x_train = tf.cast(x_train, tf.float32) / 255.\n",
    "x_test = tf.cast(x_test, tf.float32) / 255."
   ]
  },
  {
   "cell_type": "markdown",
   "metadata": {},
   "source": [
    "#### convert labels to categorical (Because I had difficulty with on the fly later) \n",
    "TODO: Figure out how to convert y_true on the fly to categorical"
   ]
  },
  {
   "cell_type": "code",
   "execution_count": 14,
   "metadata": {},
   "outputs": [],
   "source": [
    "y_train_cat = keras.utils.to_categorical(y_train, num_classes=10)\n",
    "y_test_cat =  keras.utils.to_categorical(y_test, num_classes=10)"
   ]
  },
  {
   "cell_type": "markdown",
   "metadata": {},
   "source": [
    "### Lets start with a simple custom loss"
   ]
  },
  {
   "cell_type": "code",
   "execution_count": 15,
   "metadata": {},
   "outputs": [],
   "source": [
    "def my_crossentropy(y_true, y_pred):\n",
    "    m = y_pred.shape[-1]\n",
    "    \n",
    "    # Note: I had issues trying to convert to categorical on the fly, \n",
    "    # so I changed the original labels instead in the dataset as above\n",
    "    # y_true_cat = keras.utils.to_categorical(y_true, num_classes=m)\n",
    "    # return -1/m * keras.backend.sum(y_true_cat * keras.backend.log(y_pred))\n",
    "    \n",
    "    return -1/m * keras.backend.sum(y_true * keras.backend.log(y_pred))\n",
    "    "
   ]
  },
  {
   "cell_type": "code",
   "execution_count": 16,
   "metadata": {},
   "outputs": [
    {
     "name": "stdout",
     "output_type": "stream",
     "text": [
      "Epoch 1/5\n",
      "1875/1875 [==============================] - 6s 3ms/step - loss: 3.4164 - accuracy: 0.6373 - val_loss: 3.2424 - val_accuracy: 0.6503\n",
      "Epoch 2/5\n",
      "1875/1875 [==============================] - 6s 3ms/step - loss: 3.0941 - accuracy: 0.6579 - val_loss: 3.0905 - val_accuracy: 0.6622\n",
      "Epoch 3/5\n",
      "1875/1875 [==============================] - 6s 3ms/step - loss: 3.0009 - accuracy: 0.6640 - val_loss: 3.0607 - val_accuracy: 0.6646\n",
      "Epoch 4/5\n",
      "1875/1875 [==============================] - 6s 3ms/step - loss: 2.9471 - accuracy: 0.6669 - val_loss: 3.1012 - val_accuracy: 0.6606\n",
      "Epoch 5/5\n",
      "1875/1875 [==============================] - 6s 3ms/step - loss: 2.8104 - accuracy: 0.6818 - val_loss: 2.5848 - val_accuracy: 0.7110\n"
     ]
    },
    {
     "data": {
      "text/plain": [
       "<tensorflow.python.keras.callbacks.History at 0x1432a8f28>"
      ]
     },
     "execution_count": 16,
     "metadata": {},
     "output_type": "execute_result"
    }
   ],
   "source": [
    "inputs = keras.layers.Input(shape=(28,28,1))\n",
    "z = keras.layers.Flatten()(inputs)\n",
    "z = keras.layers.Dense(200, activation='relu')(z)\n",
    "z = keras.layers.Dense(100, activation='relu')(z)\n",
    "z = keras.layers.Dense(10, activation='relu')(z)\n",
    "outputs = keras.layers.Softmax()(z)\n",
    "simple_fc_clf_2 = keras.Model(inputs=[inputs], outputs=[outputs])\n",
    "simple_fc_clf_2.compile(loss=my_crossentropy, optimizer=keras.optimizers.Adam(1e-3), metrics=['accuracy'])\n",
    "\n",
    "### Lets also plot some validation accuracy (for ease, we just use test set as validation set)\n",
    "simple_fc_clf_2.fit(x_train, y_train_cat, epochs=5, validation_data=(x_test, y_test_cat))"
   ]
  },
  {
   "cell_type": "markdown",
   "metadata": {},
   "source": [
    "### Lets add a custom metric"
   ]
  },
  {
   "cell_type": "code",
   "execution_count": 17,
   "metadata": {},
   "outputs": [],
   "source": [
    "def top_3_acc(y_true, y_pred):\n",
    "    return tf.compat.v1.math.in_top_k(y_pred, tf.compat.v1.argmax(y_true, axis=-1), k=3)\n",
    "\n",
    "def top_1_acc(y_true, y_pred):\n",
    "    return tf.compat.v1.math.in_top_k(y_pred, tf.compat.v1.argmax(y_true, axis=-1), k=1)\n",
    "\n",
    "# More General\n",
    "def create_top_k_acc(k):\n",
    "    def top_k_acc(y_true, y_pred):\n",
    "        return tf.compat.v1.math.in_top_k(y_pred, tf.compat.v1.argmax(y_true, axis=-1), k=k)\n",
    "    return top_k_acc\n"
   ]
  },
  {
   "cell_type": "code",
   "execution_count": 18,
   "metadata": {},
   "outputs": [
    {
     "name": "stdout",
     "output_type": "stream",
     "text": [
      "Epoch 1/5\n",
      "1875/1875 [==============================] - 6s 3ms/step - loss: 2.3342 - accuracy: 0.7765 - top_1_acc: 0.7860 - top_3_acc: 0.9736 - val_loss: 2.0023 - val_accuracy: 0.8282 - val_top_1_acc: 0.8310 - val_top_3_acc: 0.9833\n",
      "Epoch 2/5\n",
      "1875/1875 [==============================] - 6s 3ms/step - loss: 1.8396 - accuracy: 0.8428 - top_1_acc: 0.8447 - top_3_acc: 0.9851 - val_loss: 1.9857 - val_accuracy: 0.8346 - val_top_1_acc: 0.8375 - val_top_3_acc: 0.9776\n",
      "Epoch 3/5\n",
      "1875/1875 [==============================] - 6s 3ms/step - loss: 1.7309 - accuracy: 0.8580 - top_1_acc: 0.8601 - top_3_acc: 0.9879 - val_loss: 1.8522 - val_accuracy: 0.8487 - val_top_1_acc: 0.8518 - val_top_3_acc: 0.9848\n",
      "Epoch 4/5\n",
      "1875/1875 [==============================] - 6s 3ms/step - loss: 1.6605 - accuracy: 0.8665 - top_1_acc: 0.8684 - top_3_acc: 0.9901 - val_loss: 1.8008 - val_accuracy: 0.8569 - val_top_1_acc: 0.8601 - val_top_3_acc: 0.9868\n",
      "Epoch 5/5\n",
      "1875/1875 [==============================] - 6s 3ms/step - loss: 1.6089 - accuracy: 0.8735 - top_1_acc: 0.8761 - top_3_acc: 0.9912 - val_loss: 1.8023 - val_accuracy: 0.8483 - val_top_1_acc: 0.8505 - val_top_3_acc: 0.9889\n"
     ]
    },
    {
     "data": {
      "text/plain": [
       "<tensorflow.python.keras.callbacks.History at 0x14338b390>"
      ]
     },
     "execution_count": 18,
     "metadata": {},
     "output_type": "execute_result"
    }
   ],
   "source": [
    "inputs = keras.layers.Input(shape=(28,28,1))\n",
    "z = keras.layers.Flatten()(inputs)\n",
    "z = keras.layers.Dense(200, activation='relu')(z)\n",
    "z = keras.layers.Dense(100, activation='relu')(z)\n",
    "z = keras.layers.Dense(10, activation='relu')(z)\n",
    "outputs = keras.layers.Softmax()(z)\n",
    "simple_fc_clf_2 = keras.Model(inputs=[inputs], outputs=[outputs])\n",
    "simple_fc_clf_2.compile(loss=my_crossentropy, optimizer=keras.optimizers.Adam(1e-3), \n",
    "                        metrics=['accuracy', top_1_acc, top_3_acc])\n",
    "simple_fc_clf_2.fit(x_train, y_train_cat, epochs=5, validation_data=(x_test, y_test_cat))"
   ]
  },
  {
   "cell_type": "markdown",
   "metadata": {},
   "source": [
    "### Lets makes some custom layers"
   ]
  },
  {
   "cell_type": "code",
   "execution_count": 19,
   "metadata": {},
   "outputs": [],
   "source": [
    "# Lets make a simple, custom flatten layer since it has no weights\n",
    "def my_flatten_layer(x):\n",
    "    # return keras.layers.Flatten()(x)\n",
    "    shape = x.get_shape().as_list() # or list(x.shape)\n",
    "    flat_dim = np.prod(shape[1:]) # product of all dimensions besides batch dimension\n",
    "    return tf.reshape(x, [-1, flat_dim]) # -1 means infer from the rest --- so infer batch size\n",
    "    \n",
    "my_flatten_lambda_layer = keras.layers.Lambda(lambda x: keras.layers.Flatten()(x))"
   ]
  },
  {
   "cell_type": "code",
   "execution_count": 20,
   "metadata": {},
   "outputs": [
    {
     "name": "stdout",
     "output_type": "stream",
     "text": [
      "1875/1875 [==============================] - 6s 3ms/step - loss: 5.2510 - accuracy: 0.3457 - top_1_acc: 0.8218 - top_3_acc: 0.9954 - val_loss: 5.1049 - val_accuracy: 0.3553 - val_top_1_acc: 0.8693 - val_top_3_acc: 0.9986\n"
     ]
    },
    {
     "data": {
      "text/plain": [
       "<tensorflow.python.keras.callbacks.History at 0x143583dd8>"
      ]
     },
     "execution_count": 20,
     "metadata": {},
     "output_type": "execute_result"
    }
   ],
   "source": [
    "tf.random.set_seed(42)\n",
    "inputs = keras.layers.Input(shape=(28,28,1))\n",
    "z = keras.layers.Flatten()(inputs)\n",
    "z = keras.layers.Dense(200, activation='relu')(z)\n",
    "z = keras.layers.Dense(100, activation='relu')(z)\n",
    "z = keras.layers.Dense(10, activation='relu')(z)\n",
    "outputs = keras.layers.Softmax()(z)\n",
    "simple_fc_clf_2 = keras.Model(inputs=[inputs], outputs=[outputs])\n",
    "simple_fc_clf_2.compile(loss=my_crossentropy, optimizer=keras.optimizers.Adam(1e-3), \n",
    "                        metrics=['accuracy', top_1_acc, top_3_acc])\n",
    "simple_fc_clf_2.fit(x_train, y_train_cat, epochs=1, validation_data=(x_test, y_test_cat))"
   ]
  },
  {
   "cell_type": "code",
   "execution_count": 21,
   "metadata": {},
   "outputs": [
    {
     "name": "stdout",
     "output_type": "stream",
     "text": [
      "1875/1875 [==============================] - 7s 4ms/step - loss: 5.2510 - accuracy: 0.3457 - top_1_acc: 0.8218 - top_3_acc: 0.9954 - val_loss: 5.1049 - val_accuracy: 0.3553 - val_top_1_acc: 0.8693 - val_top_3_acc: 0.9986\n"
     ]
    },
    {
     "data": {
      "text/plain": [
       "<tensorflow.python.keras.callbacks.History at 0x143668208>"
      ]
     },
     "execution_count": 21,
     "metadata": {},
     "output_type": "execute_result"
    }
   ],
   "source": [
    "tf.random.set_seed(42)\n",
    "inputs = keras.layers.Input(shape=(28,28,1))\n",
    "z = keras.layers.Lambda(lambda x: keras.layers.Flatten()(x))(inputs)\n",
    "z = keras.layers.Dense(200, activation='relu')(z)\n",
    "z = keras.layers.Dense(100, activation='relu')(z)\n",
    "z = keras.layers.Dense(10, activation='relu')(z)\n",
    "outputs = keras.layers.Softmax()(z)\n",
    "simple_fc_clf_2 = keras.Model(inputs=[inputs], outputs=[outputs])\n",
    "simple_fc_clf_2.compile(loss=my_crossentropy, optimizer=keras.optimizers.Adam(1e-3), \n",
    "                        metrics=['accuracy', top_1_acc, top_3_acc])\n",
    "simple_fc_clf_2.fit(x_train, y_train_cat, epochs=1, validation_data=(x_test, y_test_cat))"
   ]
  },
  {
   "cell_type": "code",
   "execution_count": 22,
   "metadata": {},
   "outputs": [
    {
     "name": "stdout",
     "output_type": "stream",
     "text": [
      "1875/1875 [==============================] - 6s 3ms/step - loss: 5.2510 - accuracy: 0.3457 - top_1_acc: 0.8218 - top_3_acc: 0.9954 - val_loss: 5.1049 - val_accuracy: 0.3553 - val_top_1_acc: 0.8693 - val_top_3_acc: 0.9986\n"
     ]
    },
    {
     "data": {
      "text/plain": [
       "<tensorflow.python.keras.callbacks.History at 0x14384b940>"
      ]
     },
     "execution_count": 22,
     "metadata": {},
     "output_type": "execute_result"
    }
   ],
   "source": [
    "tf.random.set_seed(42)\n",
    "inputs = keras.layers.Input(shape=(28,28,1))\n",
    "z = my_flatten_layer(inputs)\n",
    "z = keras.layers.Dense(200, activation='relu')(z)\n",
    "z = keras.layers.Dense(100, activation='relu')(z)\n",
    "z = keras.layers.Dense(10, activation='relu')(z)\n",
    "outputs = keras.layers.Softmax()(z)\n",
    "simple_fc_clf_2 = keras.Model(inputs=[inputs], outputs=[outputs])\n",
    "simple_fc_clf_2.compile(loss=my_crossentropy, optimizer=keras.optimizers.Adam(1e-3), \n",
    "                        metrics=['accuracy', top_1_acc, top_3_acc])\n",
    "simple_fc_clf_2.fit(x_train, y_train_cat, epochs=1, validation_data=(x_test, y_test_cat))"
   ]
  },
  {
   "cell_type": "markdown",
   "metadata": {},
   "source": [
    "#### The outputs of all three above are identical "
   ]
  },
  {
   "cell_type": "markdown",
   "metadata": {},
   "source": [
    "#### Lets make a custom softmax as well"
   ]
  },
  {
   "cell_type": "code",
   "execution_count": 23,
   "metadata": {},
   "outputs": [],
   "source": [
    "def my_softmax(x):\n",
    "    return tf.exp(x)/tf.reduce_sum(tf.exp(x), axis=-1, keepdims=True)\n",
    "    "
   ]
  },
  {
   "cell_type": "code",
   "execution_count": 24,
   "metadata": {},
   "outputs": [
    {
     "name": "stdout",
     "output_type": "stream",
     "text": [
      "1875/1875 [==============================] - 6s 3ms/step - loss: 5.2524 - accuracy: 0.3456 - top_1_acc: 0.8208 - top_3_acc: 0.9953 - val_loss: 5.1196 - val_accuracy: 0.3544 - val_top_1_acc: 0.8540 - val_top_3_acc: 0.9990\n"
     ]
    },
    {
     "data": {
      "text/plain": [
       "<tensorflow.python.keras.callbacks.History at 0x1439d5f60>"
      ]
     },
     "execution_count": 24,
     "metadata": {},
     "output_type": "execute_result"
    }
   ],
   "source": [
    "tf.random.set_seed(42)\n",
    "inputs = keras.layers.Input(shape=(28,28,1))\n",
    "z = my_flatten_layer(inputs)\n",
    "z = keras.layers.Dense(200, activation='relu')(z)\n",
    "z = keras.layers.Dense(100, activation='relu')(z)\n",
    "z = keras.layers.Dense(10, activation='relu')(z)\n",
    "outputs = my_softmax(z)\n",
    "simple_fc_clf_2 = keras.Model(inputs=[inputs], outputs=[outputs])\n",
    "simple_fc_clf_2.compile(loss=my_crossentropy, optimizer=keras.optimizers.Adam(1e-3), \n",
    "                        metrics=['accuracy', top_1_acc, top_3_acc])\n",
    "simple_fc_clf_2.fit(x_train, y_train_cat, epochs=1, validation_data=(x_test, y_test_cat))"
   ]
  },
  {
   "cell_type": "markdown",
   "metadata": {},
   "source": [
    "#### The output is not \"identical\" but it is very close, so perhaps any difference is negligible and due to rounding or precision "
   ]
  },
  {
   "cell_type": "markdown",
   "metadata": {},
   "source": [
    "## Multiple Outputs, Losses, and Metrics"
   ]
  },
  {
   "cell_type": "markdown",
   "metadata": {},
   "source": [
    "#### We can make this into an autoencoder and have a reconstruction loss, but have the encoder be a classifier"
   ]
  },
  {
   "cell_type": "markdown",
   "metadata": {},
   "source": [
    "#### Lets make a simple autoencoder first for reference"
   ]
  },
  {
   "cell_type": "code",
   "execution_count": 25,
   "metadata": {},
   "outputs": [],
   "source": [
    "inputs = keras.layers.Input(shape=(28,28,1))\n",
    "z = keras.layers.Flatten()(inputs)\n",
    "z = keras.layers.Dense(200, activation='relu')(z)\n",
    "z = keras.layers.Dense(100, activation='relu')(z)\n",
    "encoder_out = keras.layers.Dense(10, activation='relu')(z)\n",
    "\n",
    "decoder_in = encoder_out\n",
    "z = keras.layers.Dense(100, activation='relu')(decoder_in)\n",
    "z = keras.layers.Dense(200, activation='relu')(z)\n",
    "z = keras.layers.Dense(28*28*1, activation='relu')(z)\n",
    "decoder_out = keras.layers.Reshape((28,28))(z)\n",
    "\n",
    "\n",
    "# ae_clf = keras.Model(inputs=[inputs], outputs=[decoder_out, clf_out])\n",
    "ae_clf = keras.Model(inputs=[inputs], outputs=[decoder_out])\n"
   ]
  },
  {
   "cell_type": "code",
   "execution_count": 26,
   "metadata": {},
   "outputs": [
    {
     "name": "stdout",
     "output_type": "stream",
     "text": [
      "1875/1875 [==============================] - 10s 5ms/step - loss: 0.0345\n"
     ]
    },
    {
     "data": {
      "text/plain": [
       "<tensorflow.python.keras.callbacks.History at 0x143b99c50>"
      ]
     },
     "execution_count": 26,
     "metadata": {},
     "output_type": "execute_result"
    }
   ],
   "source": [
    "ae_clf.compile(loss='mse', optimizer=keras.optimizers.Adam(1e-3))\n",
    "ae_clf.fit(x_train,x_train)"
   ]
  },
  {
   "cell_type": "code",
   "execution_count": 27,
   "metadata": {},
   "outputs": [],
   "source": [
    "def plot_image(image):\n",
    "    plt.imshow(image, cmap=\"binary\")\n",
    "    plt.axis(\"off\")\n",
    "    \n",
    "def show_reconstruction(model, n_images, multi_output=False):\n",
    "    #reconstructions = model.predict(test.take(n_images))\n",
    "    fig = plt.figure(figsize=(n_images*1.5, 3))\n",
    "    for img_index, img in enumerate(x_test[:n_images]):\n",
    "        reconstruction = model.predict(tf.reshape(img, (1,28,28,1)))\n",
    "        plt.subplot(2, n_images, 1 + img_index)\n",
    "        plot_image(img)\n",
    "        plt.subplot(2, n_images, 1 + img_index + n_images)\n",
    "        if multi_output:\n",
    "            plot_image(reconstruction[0][0])\n",
    "        else:\n",
    "            plot_image(reconstruction[0])\n",
    "        "
   ]
  },
  {
   "cell_type": "code",
   "execution_count": 28,
   "metadata": {},
   "outputs": [
    {
     "data": {
      "image/png": "[encoded data removed]",
      "text/plain": [
       "<Figure size 540x216 with 10 Axes>"
      ]
     },
     "metadata": {
      "needs_background": "light"
     },
     "output_type": "display_data"
    }
   ],
   "source": [
    "show_reconstruction(ae_clf, 5)"
   ]
  },
  {
   "cell_type": "markdown",
   "metadata": {},
   "source": [
    "#### Now Lets Add a clf output and loss"
   ]
  },
  {
   "cell_type": "code",
   "execution_count": 29,
   "metadata": {},
   "outputs": [],
   "source": [
    "inputs = keras.layers.Input(shape=(28,28,1))\n",
    "z = keras.layers.Flatten()(inputs)\n",
    "z = keras.layers.Dense(200, activation='relu')(z)\n",
    "z = keras.layers.Dense(100, activation='relu')(z)\n",
    "encoder_out = keras.layers.Dense(10, activation='relu')(z)\n",
    "\n",
    "clf_out = keras.layers.Softmax(name='clf_out')(encoder_out)\n",
    "\n",
    "decoder_in = encoder_out\n",
    "z = keras.layers.Dense(100, activation='relu')(decoder_in)\n",
    "z = keras.layers.Dense(200, activation='relu')(z)\n",
    "z = keras.layers.Dense(28*28*1, activation='relu')(z)\n",
    "decoder_out = keras.layers.Reshape((28,28), name='decoder_out')(z)\n",
    "\n",
    "\n",
    "ae_clf = keras.Model(inputs=[inputs], outputs=[decoder_out, clf_out])"
   ]
  },
  {
   "cell_type": "code",
   "execution_count": 30,
   "metadata": {},
   "outputs": [],
   "source": [
    "losses = {'decoder_out':'mse', 'clf_out':\"sparse_categorical_crossentropy\"}\n",
    "loss_weights = {'decoder_out':1.0, 'clf_out':1.0}\n",
    "ae_clf.compile(loss= losses, loss_weights= loss_weights, \n",
    "               optimizer=keras.optimizers.Adam(1e-3), metrics={'decoder_out':'MAE', 'clf_out':'accuracy'})"
   ]
  },
  {
   "cell_type": "markdown",
   "metadata": {},
   "source": [
    "#### Notice that we set a name for some of the layers above that we need a reference to. Lets print the model summary below to make sure those layers were indeed names as desired"
   ]
  },
  {
   "cell_type": "code",
   "execution_count": 31,
   "metadata": {},
   "outputs": [
    {
     "name": "stdout",
     "output_type": "stream",
     "text": [
      "Model: \"functional_19\"\n",
      "__________________________________________________________________________________________________\n",
      "Layer (type)                    Output Shape         Param #     Connected to                     \n",
      "==================================================================================================\n",
      "input_10 (InputLayer)           [(None, 28, 28, 1)]  0                                            \n",
      "__________________________________________________________________________________________________\n",
      "flatten_6 (Flatten)             (None, 784)          0           input_10[0][0]                   \n",
      "__________________________________________________________________________________________________\n",
      "dense_28 (Dense)                (None, 200)          157000      flatten_6[0][0]                  \n",
      "__________________________________________________________________________________________________\n",
      "dense_29 (Dense)                (None, 100)          20100       dense_28[0][0]                   \n",
      "__________________________________________________________________________________________________\n",
      "dense_30 (Dense)                (None, 10)           1010        dense_29[0][0]                   \n",
      "__________________________________________________________________________________________________\n",
      "dense_31 (Dense)                (None, 100)          1100        dense_30[0][0]                   \n",
      "__________________________________________________________________________________________________\n",
      "dense_32 (Dense)                (None, 200)          20200       dense_31[0][0]                   \n",
      "__________________________________________________________________________________________________\n",
      "dense_33 (Dense)                (None, 784)          157584      dense_32[0][0]                   \n",
      "__________________________________________________________________________________________________\n",
      "decoder_out (Reshape)           (None, 28, 28)       0           dense_33[0][0]                   \n",
      "__________________________________________________________________________________________________\n",
      "clf_out (Softmax)               (None, 10)           0           dense_30[0][0]                   \n",
      "==================================================================================================\n",
      "Total params: 356,994\n",
      "Trainable params: 356,994\n",
      "Non-trainable params: 0\n",
      "__________________________________________________________________________________________________\n"
     ]
    }
   ],
   "source": [
    "ae_clf.summary()"
   ]
  },
  {
   "cell_type": "code",
   "execution_count": 32,
   "metadata": {},
   "outputs": [
    {
     "name": "stdout",
     "output_type": "stream",
     "text": [
      "1875/1875 [==============================] - 12s 6ms/step - loss: 1.3314 - decoder_out_loss: 0.0627 - clf_out_loss: 1.2687 - decoder_out_MAE: 0.1627 - clf_out_accuracy: 0.5529\n"
     ]
    },
    {
     "data": {
      "text/plain": [
       "<tensorflow.python.keras.callbacks.History at 0x143e56b00>"
      ]
     },
     "execution_count": 32,
     "metadata": {},
     "output_type": "execute_result"
    }
   ],
   "source": [
    "ae_clf.fit(x_train,y={'decoder_out':x_train, 'clf_out':y_train})"
   ]
  },
  {
   "cell_type": "code",
   "execution_count": 33,
   "metadata": {},
   "outputs": [
    {
     "data": {
      "image/png": "[encoded data removed]",
      "text/plain": [
       "<Figure size 540x216 with 10 Axes>"
      ]
     },
     "metadata": {
      "needs_background": "light"
     },
     "output_type": "display_data"
    }
   ],
   "source": [
    "show_reconstruction(ae_clf, 5, multi_output=True)"
   ]
  },
  {
   "cell_type": "code",
   "execution_count": 34,
   "metadata": {},
   "outputs": [
    {
     "name": "stdout",
     "output_type": "stream",
     "text": [
      "Model: \"functional_21\"\n",
      "_________________________________________________________________\n",
      "Layer (type)                 Output Shape              Param #   \n",
      "=================================================================\n",
      "input_10 (InputLayer)        [(None, 28, 28, 1)]       0         \n",
      "_________________________________________________________________\n",
      "flatten_6 (Flatten)          (None, 784)               0         \n",
      "_________________________________________________________________\n",
      "dense_28 (Dense)             (None, 200)               157000    \n",
      "_________________________________________________________________\n",
      "dense_29 (Dense)             (None, 100)               20100     \n",
      "_________________________________________________________________\n",
      "dense_30 (Dense)             (None, 10)                1010      \n",
      "_________________________________________________________________\n",
      "clf_out (Softmax)            (None, 10)                0         \n",
      "=================================================================\n",
      "Total params: 178,110\n",
      "Trainable params: 178,110\n",
      "Non-trainable params: 0\n",
      "_________________________________________________________________\n"
     ]
    }
   ],
   "source": [
    "clf_head_only = keras.Model(inputs=[inputs], outputs=[clf_out])\n",
    "clf_head_only.summary()"
   ]
  },
  {
   "cell_type": "code",
   "execution_count": 35,
   "metadata": {},
   "outputs": [
    {
     "name": "stdout",
     "output_type": "stream",
     "text": [
      "pred: 9 label: 9\n",
      "pred: 2 label: 2\n",
      "pred: 1 label: 1\n",
      "pred: 1 label: 1\n",
      "pred: 6 label: 6\n"
     ]
    }
   ],
   "source": [
    "for i in range(5):\n",
    "    print(\"pred:\", np.argmax(clf_head_only.predict(tf.reshape(x_test[i], (1,28,28,1)))), \"label:\", y_test[i])"
   ]
  },
  {
   "cell_type": "markdown",
   "metadata": {},
   "source": [
    "#### Lets do a quick time test to see if we have a performace boost by seperating out the classifier head"
   ]
  },
  {
   "cell_type": "code",
   "execution_count": 36,
   "metadata": {},
   "outputs": [
    {
     "name": "stderr",
     "output_type": "stream",
     "text": [
      "100%|██████████| 100/100 [00:05<00:00, 16.97it/s]\n",
      "  2%|▏         | 2/100 [00:00<00:06, 14.25it/s]"
     ]
    },
    {
     "name": "stdout",
     "output_type": "stream",
     "text": [
      "clf_head_only time: 5.901282072067261\n"
     ]
    },
    {
     "name": "stderr",
     "output_type": "stream",
     "text": [
      "100%|██████████| 100/100 [00:06<00:00, 16.04it/s]\n",
      "  2%|▏         | 2/100 [00:00<00:06, 14.43it/s]"
     ]
    },
    {
     "name": "stdout",
     "output_type": "stream",
     "text": [
      "full time: 6.237814903259277\n"
     ]
    },
    {
     "name": "stderr",
     "output_type": "stream",
     "text": [
      "100%|██████████| 100/100 [00:06<00:00, 16.66it/s]"
     ]
    },
    {
     "name": "stdout",
     "output_type": "stream",
     "text": [
      "clf_head_only time: 6.005067825317383\n"
     ]
    },
    {
     "name": "stderr",
     "output_type": "stream",
     "text": [
      "\n"
     ]
    }
   ],
   "source": [
    "import time\n",
    "from tqdm import tqdm\n",
    "\n",
    "example = tf.reshape(x_test[1], (1,28,28,1))\n",
    "start = time.time()\n",
    "for i in tqdm(range(100)):\n",
    "    clf_head_only.predict(example)\n",
    "print(\"clf_head_only time:\", time.time() - start)\n",
    "\n",
    "start = time.time()\n",
    "for i in tqdm(range(100)):\n",
    "    ae_clf.predict(example)\n",
    "print(\"full time:\", time.time() - start)\n",
    "\n",
    "start = time.time()\n",
    "for i in tqdm(range(100)):\n",
    "    clf_head_only.predict(example)\n",
    "print(\"clf_head_only time:\", time.time() - start)\n",
    "\n"
   ]
  },
  {
   "cell_type": "markdown",
   "metadata": {},
   "source": [
    "#### Interesting -- we don't really see any speedup happening"
   ]
  },
  {
   "cell_type": "markdown",
   "metadata": {},
   "source": [
    " "
   ]
  },
  {
   "cell_type": "markdown",
   "metadata": {},
   "source": [
    "#### Below, I'm just trying to figure out why top k accuracy where k = 1 is any different categorical accuracy. Only thing I see different so far is that if two categories have the same predicted output, then categorical accuracy will say its wrong, and top k will say its right. But I feel like that might not be the only case, since the descrepency is quite large... "
   ]
  },
  {
   "cell_type": "code",
   "execution_count": 37,
   "metadata": {},
   "outputs": [
    {
     "name": "stdout",
     "output_type": "stream",
     "text": [
      "1875/1875 [==============================] - 7s 4ms/step - loss: 1.4234 - accuracy: 0.4753 - categorical_accuracy: 0.4753 - top_k_categorical_accuracy: 0.7845 - top_1_acc: 0.7845 - top_3_acc: 0.9876\n"
     ]
    },
    {
     "data": {
      "text/plain": [
       "<tensorflow.python.keras.callbacks.History at 0x1442a3240>"
      ]
     },
     "execution_count": 37,
     "metadata": {},
     "output_type": "execute_result"
    }
   ],
   "source": [
    "inputs = keras.layers.Input(shape=(28,28,1))\n",
    "z = keras.layers.Flatten()(inputs)\n",
    "z = keras.layers.Dense(200, activation='relu')(z)\n",
    "z = keras.layers.Dense(100, activation='relu')(z)\n",
    "z = keras.layers.Dense(10, activation='relu')(z)\n",
    "outputs = keras.layers.Softmax()(z)\n",
    "simple_fc_clf_2 = keras.Model(inputs=[inputs], outputs=[outputs])\n",
    "simple_fc_clf_2.compile(loss=\"categorical_crossentropy\", optimizer=keras.optimizers.Adam(1e-3), \n",
    "                        metrics=[\"accuracy\", \"categorical_accuracy\", tf.keras.metrics.TopKCategoricalAccuracy(k=1), top_1_acc, top_3_acc])\n",
    "simple_fc_clf_2.fit(x_train, y_train_cat, epochs=1)"
   ]
  },
  {
   "cell_type": "code",
   "execution_count": 38,
   "metadata": {},
   "outputs": [
    {
     "data": {
      "text/plain": [
       "0.5"
      ]
     },
     "execution_count": 38,
     "metadata": {},
     "output_type": "execute_result"
    }
   ],
   "source": [
    "m = tf.keras.metrics.CategoricalAccuracy()\n",
    "m.update_state([[0, 0, 1], [0, 1, 0]], [[0.1, 0.9, 0.9],\n",
    "                 [0.05, 0.95, 0]])\n",
    "m.result().numpy()"
   ]
  },
  {
   "cell_type": "code",
   "execution_count": 39,
   "metadata": {},
   "outputs": [
    {
     "data": {
      "text/plain": [
       "1.0"
      ]
     },
     "execution_count": 39,
     "metadata": {},
     "output_type": "execute_result"
    }
   ],
   "source": [
    "m = tf.keras.metrics.TopKCategoricalAccuracy(k=1)\n",
    "m.update_state([[0, 0, 1], [0, 1, 0]], [[0.1, 0.9, 0.9],\n",
    "                 [0.05, 0.95, 0]])\n",
    "m.result().numpy()"
   ]
  }
 ],
 "metadata": {
  "kernelspec": {
   "display_name": "Python 3",
   "language": "python",
   "name": "python3"
  },
  "language_info": {
   "codemirror_mode": {
    "name": "ipython",
    "version": 3
   },
   "file_extension": ".py",
   "mimetype": "text/x-python",
   "name": "python",
   "nbconvert_exporter": "python",
   "pygments_lexer": "ipython3",
   "version": "3.7.3"
  }
 },
 "nbformat": 4,
 "nbformat_minor": 4
}
